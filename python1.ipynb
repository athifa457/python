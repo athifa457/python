{
 "cells": [
  {
   "cell_type": "code",
   "execution_count": 6,
   "id": "a7ae6afb-19c1-44cd-b71c-47862ae6eb3e",
   "metadata": {},
   "outputs": [
    {
     "name": "stdout",
     "output_type": "stream",
     "text": [
      "athifa.m.v\n",
      "21\n",
      "salamathifa565@gmail.com\n"
     ]
    }
   ],
   "source": [
    "print(\"athifa.m.v\")\n",
    "print(\"21\")\n",
    "print(\"salamathifa565@gmail.com\")"
   ]
  },
  {
   "cell_type": "code",
   "execution_count": 8,
   "id": "14749cf6-b824-4c53-bf03-8907c54878a7",
   "metadata": {},
   "outputs": [
    {
     "name": "stdout",
     "output_type": "stream",
     "text": [
      "athifa.m.v\n",
      "21\n",
      "salamathifa565@gmail.com\n"
     ]
    }
   ],
   "source": [
    "print(\"athifa.m.v\\n21\\nsalamathifa565@gmail.com\")"
   ]
  },
  {
   "cell_type": "code",
   "execution_count": 34,
   "id": "9821b5a7-adc5-4612-965a-24f1f1833dad",
   "metadata": {},
   "outputs": [],
   "source": [
    "#define the two numbers\n",
    "num1 = 14\n",
    "num2 = 7"
   ]
  },
  {
   "cell_type": "code",
   "execution_count": 18,
   "id": "82b9afa5-c46b-4e4f-a7cb-35f0e684ca46",
   "metadata": {},
   "outputs": [],
   "source": [
    "#perform the operations\n",
    "addition = num1 + num2\n",
    "substraction = num1 - num2\n",
    "multiplication = num1 * num2\n",
    "division = num1 / num2"
   ]
  },
  {
   "cell_type": "code",
   "execution_count": 24,
   "id": "d3643487-3962-4d12-b31d-e5cdddf604fc",
   "metadata": {},
   "outputs": [
    {
     "name": "stdout",
     "output_type": "stream",
     "text": [
      "14 + 7 = 21\n",
      "14 - 7 = 7\n",
      "14 * 7 = 98\n",
      "14 / 7 = 2.0\n"
     ]
    }
   ],
   "source": [
    "#display the results\n",
    "print(f\"{num1} + {num2} = {addition}\")\n",
    "print(f\"{num1} - {num2} = {substraction}\")\n",
    "print(f\"{num1} * {num2} = {multiplication}\")\n",
    "print(f\"{num1} / {num2} = {division}\")"
   ]
  },
  {
   "cell_type": "code",
   "execution_count": 28,
   "id": "62fa5834-c7ae-445a-a956-59f2ed44c5ae",
   "metadata": {},
   "outputs": [
    {
     "name": "stdout",
     "output_type": "stream",
     "text": [
      "1\n",
      "2\n",
      "3\n",
      "4\n",
      "5\n"
     ]
    }
   ],
   "source": [
    "#loop through numbers 1 to 5\n",
    "for number in range (1,6):\n",
    "    print(number)"
   ]
  },
  {
   "cell_type": "code",
   "execution_count": 32,
   "id": "cbe71a67-5938-4e65-b4c2-8632df031e5a",
   "metadata": {},
   "outputs": [
    {
     "name": "stdout",
     "output_type": "stream",
     "text": [
      "\"SDK\" stands for \"software development kit\",whereas\n",
      "\"IDK stands for \"integreted development enviornment\".\n"
     ]
    }
   ],
   "source": [
    "#display the sentence with proper formatting\n",
    "print('\"SDK\" stands for \"software development kit\",whereas\\n\"IDK stands for \"integreted development enviornment\".')"
   ]
  },
  {
   "cell_type": "code",
   "execution_count": 38,
   "id": "bc6fa43a-3fe0-4503-8a46-7d44e9555f1b",
   "metadata": {},
   "outputs": [
    {
     "name": "stdout",
     "output_type": "stream",
     "text": [
      "python is an \"awesome\" language.\n",
      "pyhton\n",
      "\t2023\n",
      "i'm from entri\n",
      "5\n",
      "e\n",
      "entri\n",
      "2023\n",
      "entr2023\n",
      "entri*"
     ]
    }
   ],
   "source": [
    "print(\"python is an \\\"awesome\\\" language.\")\n",
    "print(\"pyhton\\n\\t2023\")\n",
    "print('i\\'m from entri.\\b')\n",
    "print(\"\\65\")\n",
    "print(\"\\x65\")\n",
    "print(\"entri\", \"2023\",sep=\"\\n\")\n",
    "print(\"entri\",\"2023\",sep=\"\\b\")\n",
    "print(\"entri\",\"2023\",sep=\"*\",end=\"\\b\\b\\b\\b\")"
   ]
  },
  {
   "cell_type": "code",
   "execution_count": 54,
   "id": "eb5f3c99-8234-40ea-b005-7b56cc3bf8ba",
   "metadata": {},
   "outputs": [
    {
     "name": "stdout",
     "output_type": "stream",
     "text": [
      "type of num: <class 'int'>\n",
      "type of textnum: <class 'str'>\n",
      "type of decimal : <class 'float'>\n",
      "Sum of variables: 178.3\n",
      "Type of the sum: <class 'float'>\n"
     ]
    }
   ],
   "source": [
    "#define the variables\n",
    "num = 23\n",
    "textnum = \"57\"\n",
    "decimal = 98.3\n",
    "\n",
    "#convert textnum to an integer and calculate the sum\n",
    "total_sum = num + int(textnum) + decimal\n",
    "\n",
    "# print the types of each variables\n",
    "print(\"type of num:\", type(num))\n",
    "print(\"type of textnum:\", type (textnum))\n",
    "print(\"type of decimal :\", type (decimal))\n",
    "\n",
    "\n",
    "# Convert textnum to an integer and calculate the sum\n",
    "total_sum = num + int(textnum) + decimal\n",
    "\n",
    "# Print the sum and its type\n",
    "print(\"Sum of variables:\", total_sum)\n",
    "print(\"Type of the sum:\", type(total_sum))\n"
   ]
  },
  {
   "cell_type": "code",
   "execution_count": 56,
   "id": "767d5fbd-c385-49bf-aa10-692450637a32",
   "metadata": {},
   "outputs": [
    {
     "name": "stdout",
     "output_type": "stream",
     "text": [
      "This program calculates the total number of minutes in a year.\n",
      "Days in a year: 365\n",
      "Hours in a day: 24\n",
      "Minutes in an hour: 60\n",
      "Total number of minutes in a year: 525600\n"
     ]
    }
   ],
   "source": [
    "# Define variables for units of time\n",
    "days_in_year = 365       \n",
    "hours_in_day = 24      \n",
    "minutes_in_hour = 60     \n",
    "\n",
    "# Calculate the total number of minutes in a year\n",
    "total_minutes_in_year = days_in_year * hours_in_day * minutes_in_hour\n",
    "\n",
    "# Display the result with an explanatory statement\n",
    "print(\"This program calculates the total number of minutes in a year.\")\n",
    "print(f\"Days in a year: {days_in_year}\")\n",
    "print(f\"Hours in a day: {hours_in_day}\")\n",
    "print(f\"Minutes in an hour: {minutes_in_hour}\")\n",
    "print(f\"Total number of minutes in a year: {total_minutes_in_year}\")"
   ]
  },
  {
   "cell_type": "code",
   "execution_count": 67,
   "id": "c4d4c651-31a8-4bcb-bb1d-22d2064124d1",
   "metadata": {},
   "outputs": [
    {
     "name": "stdin",
     "output_type": "stream",
     "text": [
      "please enter your name: tony\n"
     ]
    },
    {
     "name": "stdout",
     "output_type": "stream",
     "text": [
      "Hi tony, welcome to python programming :)\n"
     ]
    }
   ],
   "source": [
    "# ask the user to enter their name\n",
    "name = input(\"please enter your name:\" )\n",
    "\n",
    "# display the greeting message\n",
    "print(f\"Hi {name}, welcome to python programming :)\")\n",
    "\n"
   ]
  },
  {
   "cell_type": "code",
   "execution_count": 69,
   "id": "8407850f-2b7b-4567-a3f0-2ade26adb37e",
   "metadata": {},
   "outputs": [
    {
     "name": "stdin",
     "output_type": "stream",
     "text": [
      "Please enter amount in pounds:  100\n"
     ]
    },
    {
     "name": "stdout",
     "output_type": "stream",
     "text": [
      "£100.0 are $125.00\n"
     ]
    }
   ],
   "source": [
    "# Pounds to Dollar conversion rate \n",
    "conversion_rate = 1.25 \n",
    "# Example rate: 1 Pound = 1.25 Dollars\n",
    "\n",
    "# Ask the user to enter an amount in pounds\n",
    "pounds = float(input(\"Please enter amount in pounds: \"))\n",
    "\n",
    "# Convert pounds to dollars\n",
    "dollars = pounds * conversion_rate\n",
    "\n",
    "# Display the result\n",
    "print(f\"£{pounds} are ${dollars:.2f}\")"
   ]
  },
  {
   "cell_type": "code",
   "execution_count": null,
   "id": "1a54e099-4a95-4110-aaef-eade1d3529ac",
   "metadata": {},
   "outputs": [],
   "source": []
  }
 ],
 "metadata": {
  "kernelspec": {
   "display_name": "Python [conda env:base] *",
   "language": "python",
   "name": "conda-base-py"
  },
  "language_info": {
   "codemirror_mode": {
    "name": "ipython",
    "version": 3
   },
   "file_extension": ".py",
   "mimetype": "text/x-python",
   "name": "python",
   "nbconvert_exporter": "python",
   "pygments_lexer": "ipython3",
   "version": "3.12.7"
  }
 },
 "nbformat": 4,
 "nbformat_minor": 5
}
