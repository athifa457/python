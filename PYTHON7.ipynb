{
 "cells": [
  {
   "cell_type": "code",
   "execution_count": 2,
   "id": "9f4e53fa-d810-4396-b719-7d85e26046fc",
   "metadata": {},
   "outputs": [
    {
     "name": "stdout",
     "output_type": "stream",
     "text": [
      "Reshaped 2x5 Array:\n",
      " [[ 1  2  3  4  5]\n",
      " [ 6  7  8  9 10]]\n"
     ]
    }
   ],
   "source": [
    "import numpy as np\n",
    "\n",
    "arr = np.arange(1, 11)\n",
    "reshaped = arr.reshape(2, 5)\n",
    "print(\"Reshaped 2x5 Array:\\n\", reshaped)"
   ]
  },
  {
   "cell_type": "code",
   "execution_count": 4,
   "id": "35337da5-7e45-40f2-b234-4861ba2f4ff0",
   "metadata": {},
   "outputs": [
    {
     "name": "stdout",
     "output_type": "stream",
     "text": [
      "Extracted elements (index 5 to 15): [ 6  7  8  9 10 11 12 13 14 15 16]\n"
     ]
    }
   ],
   "source": [
    "arr2 = np.arange(1, 21)\n",
    "sliced = arr2[5:16]  # index 5 to 15 inclusive\n",
    "print(\"Extracted elements (index 5 to 15):\", sliced)"
   ]
  },
  {
   "cell_type": "code",
   "execution_count": 8,
   "id": "acbccdcd-1a2a-474b-a61c-aed0619a78cf",
   "metadata": {},
   "outputs": [
    {
     "name": "stdout",
     "output_type": "stream",
     "text": [
      "Updated Series:\n",
      " apples     3\n",
      "bananas    2\n",
      "oranges    1\n",
      "pears      4\n",
      "dtype: int64\n"
     ]
    }
   ],
   "source": [
    "import pandas as  pd\n",
    "\n",
    "fruits = pd.Series({'apples': 3, 'bananas': 2, 'oranges': 1})\n",
    "fruits['pears'] = 4\n",
    "print(\"Updated Series:\\n\", fruits)"
   ]
  },
  {
   "cell_type": "code",
   "execution_count": 10,
   "id": "f9fb9cfb-2944-4c17-b7bc-bcc614b68d9a",
   "metadata": {},
   "outputs": [
    {
     "name": "stdout",
     "output_type": "stream",
     "text": [
      "Original DataFrame:\n",
      "       name  age gender\n",
      "0    Alice   25      F\n",
      "1      Bob   30      M\n",
      "2  Charlie   20      M\n",
      "3    David   44      M\n",
      "4      Eva   32      F\n",
      "5    Frank   29      M\n",
      "6    Grace   48      F\n",
      "7   Hannah   35      F\n",
      "8      Ian   42      M\n",
      "9     Jane   39      F\n"
     ]
    }
   ],
   "source": [
    "data = {\n",
    "    'name': ['Alice', 'Bob', 'Charlie', 'David', 'Eva', 'Frank', 'Grace', 'Hannah', 'Ian', 'Jane'],\n",
    "    'age': [25, 30, 20, 44, 32, 29, 48, 35, 42, 39],\n",
    "    'gender': ['F', 'M', 'M', 'M', 'F', 'M', 'F', 'F', 'M', 'F']\n",
    "}\n",
    "\n",
    "df = pd.DataFrame(data)\n",
    "print(\"Original DataFrame:\\n\", df)"
   ]
  },
  {
   "cell_type": "code",
   "execution_count": 12,
   "id": "2ea864ef-5160-40f1-bae1-09fe600d02e4",
   "metadata": {},
   "outputs": [
    {
     "name": "stdout",
     "output_type": "stream",
     "text": [
      "DataFrame with Occupation:\n",
      "       name  age gender  occupation\n",
      "0    Alice   25      F  Programmer\n",
      "1      Bob   30      M     analyst\n",
      "2  Charlie   20      M     manager\n",
      "3    David   44      M  Programmer\n",
      "4      Eva   32      F     Manager\n",
      "5    Frank   29      M     Analyst\n",
      "6    Grace   48      F  Programmer\n",
      "7   Hannah   35      F     Manager\n",
      "8      Ian   42      M     Analyst\n",
      "9     Jane   39      F  Programmer\n"
     ]
    }
   ],
   "source": [
    "df['occupation'] = ['Programmer', 'analyst', 'manager', 'Programmer', 'Manager',\n",
    "                    'Analyst', 'Programmer', 'Manager', 'Analyst', 'Programmer']\n",
    "print(\"DataFrame with Occupation:\\n\", df)"
   ]
  },
  {
   "cell_type": "code",
   "execution_count": 18,
   "id": "668cd25f-cf7c-46c7-b640-81b3844fe538",
   "metadata": {},
   "outputs": [
    {
     "name": "stdout",
     "output_type": "stream",
     "text": [
      "Rows where age >= 30:\n",
      "      name  age gender  occupation\n",
      "1     Bob   30      M     analyst\n",
      "3   David   44      M  Programmer\n",
      "4     Eva   32      F     Manager\n",
      "6   Grace   48      F  Programmer\n",
      "7  Hannah   35      F     Manager\n",
      "8     Ian   42      M     Analyst\n",
      "9    Jane   39      F  Programmer\n"
     ]
    }
   ],
   "source": [
    "age_filter = df[df['age'] >= 30]\n",
    "print(\"Rows where age >= 30:\\n\", age_filter)"
   ]
  },
  {
   "cell_type": "code",
   "execution_count": 26,
   "id": "256aa4ee-9768-46fe-b70e-642ea1a22929",
   "metadata": {},
   "outputs": [
    {
     "ename": "NameError",
     "evalue": "name 'false' is not defined",
     "output_type": "error",
     "traceback": [
      "\u001b[1;31m---------------------------------------------------------------------------\u001b[0m",
      "\u001b[1;31mNameError\u001b[0m                                 Traceback (most recent call last)",
      "Cell \u001b[1;32mIn[26], line 2\u001b[0m\n\u001b[0;32m      1\u001b[0m \u001b[38;5;66;03m# Save to CSV\u001b[39;00m\n\u001b[1;32m----> 2\u001b[0m df\u001b[38;5;241m.\u001b[39mto_csv(\u001b[38;5;124m'\u001b[39m\u001b[38;5;124mpeople.csv\u001b[39m\u001b[38;5;124m'\u001b[39m, index\u001b[38;5;241m=\u001b[39mfalse)\n\u001b[0;32m      4\u001b[0m \u001b[38;5;66;03m# Read from CSV\u001b[39;00m\n\u001b[0;32m      5\u001b[0m df_loaded \u001b[38;5;241m=\u001b[39m pd\u001b[38;5;241m.\u001b[39mread_csv(\u001b[38;5;124m'\u001b[39m\u001b[38;5;124mpeople.csv\u001b[39m\u001b[38;5;124m'\u001b[39m)\n",
      "\u001b[1;31mNameError\u001b[0m: name 'false' is not defined"
     ]
    }
   ],
   "source": [
    "# Save to CSV\n",
    "df.to_csv('people.csv', index=false)\n",
    "\n",
    "# Read from CSV\n",
    "df_loaded = pd.read_csv('people.csv')\n",
    "print(\"Data loaded from CSV:\\n\", df_loaded)"
   ]
  },
  {
   "cell_type": "code",
   "execution_count": null,
   "id": "5488cf21-6373-4453-a304-b523a5bd0277",
   "metadata": {},
   "outputs": [],
   "source": []
  }
 ],
 "metadata": {
  "kernelspec": {
   "display_name": "Python [conda env:anaconda3]",
   "language": "python",
   "name": "conda-env-anaconda3-py"
  },
  "language_info": {
   "codemirror_mode": {
    "name": "ipython",
    "version": 3
   },
   "file_extension": ".py",
   "mimetype": "text/x-python",
   "name": "python",
   "nbconvert_exporter": "python",
   "pygments_lexer": "ipython3",
   "version": "3.12.7"
  }
 },
 "nbformat": 4,
 "nbformat_minor": 5
}
