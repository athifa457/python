{
 "cells": [
  {
   "cell_type": "code",
   "execution_count": 14,
   "id": "5786bd2f-e607-4c98-b6da-b1916ccf0b78",
   "metadata": {},
   "outputs": [
    {
     "name": "stdin",
     "output_type": "stream",
     "text": [
      "enter the month:  3\n"
     ]
    },
    {
     "name": "stdout",
     "output_type": "stream",
     "text": [
      "months 3 is march\n"
     ]
    }
   ],
   "source": [
    "#monthnames.py\n",
    "\n",
    "#list of month names (index 0 is empty for alignment)\n",
    "months = [\n",
    "    \"\",\"january\",\"february\",\"march\",\"april\",\"may\",\"june\",\n",
    "    \"july\",\"august\",\"september\",\"october\",\"november\",\"december\"\n",
    "]\n",
    "# input from user\n",
    "month_number = int(input(\"enter the month: \")) #This line define 'month_number'\n",
    "\n",
    "#check the input is valid\n",
    "if 1 <= month_number <= 12:\n",
    "    print(f\"months {month_number} is {months[month_number]}\")\n",
    "else:\n",
    "    print(\"invalid month_number.please enter a number between 1 and 12.\")"
   ]
  },
  {
   "cell_type": "code",
   "execution_count": 20,
   "id": "214ec5b0-1fe1-44d4-a3c9-9521878d2ad1",
   "metadata": {},
   "outputs": [
    {
     "name": "stdin",
     "output_type": "stream",
     "text": [
      "enter your age:  30\n"
     ]
    },
    {
     "name": "stdout",
     "output_type": "stream",
     "text": [
      "your ticket costs $6.00\n"
     ]
    }
   ],
   "source": [
    "#ticketprice.py\n",
    "\n",
    "#full price of the ticket\n",
    "full_price = 6.0\n",
    "\n",
    "#ask the user for their age\n",
    "age = int(input(\"enter your age: \"))\n",
    "\n",
    "#calculate price based on age\n",
    "if age <16:\n",
    "     price =full_price /2\n",
    "elif age >= 60:\n",
    "     price = full_price /3\n",
    "else:\n",
    "    price = full_price\n",
    "\n",
    " #print the result with 2 decimal places\n",
    "    print(f\"your ticket costs ${price:.2f}\")"
   ]
  },
  {
   "cell_type": "code",
   "execution_count": 32,
   "id": "1c603212-a8c4-4dc3-a9a1-eda7e6b8b9ad",
   "metadata": {},
   "outputs": [
    {
     "name": "stdin",
     "output_type": "stream",
     "text": [
      "enter your weight in (kg):  51.2\n",
      "enter your hieght in (m):   1.47\n"
     ]
    },
    {
     "name": "stdout",
     "output_type": "stream",
     "text": [
      "your bmi is: 23.69\n",
      "you are in the \"normal\" range. \n"
     ]
    }
   ],
   "source": [
    "#bodymassindex.py\n",
    "\n",
    "#ask your user to enter their weight and height\n",
    "weight = float(input(\"enter your weight in (kg): \"))\n",
    "height = float(input(\"enter your hieght in (m):  \"))\n",
    "\n",
    "#calculate bmi\n",
    "bmi = weight / (height ** 2)\n",
    "\n",
    "#print bmi with 2 decimal places\n",
    "print(f\"your bmi is: {bmi:.2f}\")\n",
    "\n",
    "#determine weight status\n",
    "if bmi < 18.5:\n",
    "    print('your are in the\"underweight\" range.')\n",
    "elif 18.5 <= bmi <= 24.9:\n",
    "    print('you are in the \"normal\" range. ')\n",
    "elif 25 <= bmi <= 29.9:\n",
    "    print('you are un the \"overweight\" range. ')\n",
    "else:\n",
    "    print('you are in the \"obse\" range. ')"
   ]
  },
  {
   "cell_type": "code",
   "execution_count": 42,
   "id": "d0951e68-6871-45d0-aaae-c13de8f1eabd",
   "metadata": {},
   "outputs": [
    {
     "name": "stdin",
     "output_type": "stream",
     "text": [
      "enter first number:  33\n",
      "enter second number:  54\n",
      "enter third number:  29\n"
     ]
    },
    {
     "name": "stdout",
     "output_type": "stream",
     "text": [
      " the greatest number is: 54.0\n"
     ]
    }
   ],
   "source": [
    "#greatestofthree.py\n",
    "#get three numbers from user\n",
    "num1 = float(input(\"enter first number: \"))\n",
    "num2 = float(input(\"enter second number: \"))\n",
    "num3 = float(input(\"enter third number: \"))\n",
    "\n",
    "# find the greatest\n",
    "if num1 >= num2 and num1 >= num3:\n",
    "     greatest = num1\n",
    "elif num2 >= num1 and num2 >= num3:\n",
    "     greatest = num2\n",
    "else:\n",
    "    greatest = num3\n",
    "#print the result\n",
    "print(f\" the greatest number is: {greatest}\")"
   ]
  },
  {
   "cell_type": "code",
   "execution_count": 55,
   "id": "20128124-fcbd-4477-a7d1-d7dc62a02288",
   "metadata": {},
   "outputs": [
    {
     "name": "stdin",
     "output_type": "stream",
     "text": [
      "Enter a number:  9\n"
     ]
    },
    {
     "name": "stdout",
     "output_type": "stream",
     "text": [
      "The factorial of 9 is 362880\n"
     ]
    }
   ],
   "source": [
    "#factorialusingloop.py\n",
    "\n",
    "#get number from user\n",
    "num = int(input(\"Enter a number: \"))\n",
    "\n",
    "#factorial result\n",
    "factorial = 1\n",
    "\n",
    "#check if the number is negative\n",
    "if num < 0:\n",
    "    print(\"Factorial is not defined for negative numbers.\")\n",
    "elif num == 0:\n",
    "    print(\"The factorial of 0 is 1.\")\n",
    "else:\n",
    "    for i in range(1, num + 1):\n",
    "        factorial *= i\n",
    "    #loop to calculate factorial    \n",
    "    print(\"The factorial of\", num, \"is\", factorial)  "
   ]
  },
  {
   "cell_type": "code",
   "execution_count": 57,
   "id": "4bbc35b3-eddb-44d3-beb7-2326d1714220",
   "metadata": {},
   "outputs": [
    {
     "name": "stdin",
     "output_type": "stream",
     "text": [
      "Enter a number:  6\n"
     ]
    },
    {
     "name": "stdout",
     "output_type": "stream",
     "text": [
      "Reversed number is: 6\n"
     ]
    }
   ],
   "source": [
    "# ReverseNumber.py\n",
    "\n",
    "# Get number from user\n",
    "num = int(input(\"Enter a number: \"))\n",
    "\n",
    "# Initialize reversed number\n",
    "reversed_num = 0\n",
    "\n",
    "# Use a while loop to reverse the digits\n",
    "while num > 0:\n",
    "    digit = num % 10           # Get last digit\n",
    "    reversed_num = reversed_num * 10 + digit\n",
    "    num = num // 10            # Remove last digit\n",
    "\n",
    "# Print the reversed number\n",
    "print(\"Reversed number is:\", reversed_num)\n"
   ]
  },
  {
   "cell_type": "code",
   "execution_count": 59,
   "id": "d1c76384-25ce-4651-90e6-93fc033e48f6",
   "metadata": {},
   "outputs": [
    {
     "name": "stdin",
     "output_type": "stream",
     "text": [
      "Enter a number:  8\n",
      "How many multiples do you want to print?  2\n"
     ]
    },
    {
     "name": "stdout",
     "output_type": "stream",
     "text": [
      "First 2 multiples of 8 are:\n",
      "8\n",
      "16\n"
     ]
    }
   ],
   "source": [
    "# MultiplesOfNumber.py\n",
    "\n",
    "# Get input from user\n",
    "num = int(input(\"Enter a number: \"))\n",
    "limit = int(input(\"How many multiples do you want to print? \"))\n",
    "\n",
    "# Print the multiples using a for loop\n",
    "print(f\"First {limit} multiples of {num} are:\")\n",
    "for i in range(1, limit + 1):\n",
    "    print(num * i)"
   ]
  },
  {
   "cell_type": "code",
   "execution_count": 63,
   "id": "a58b1fee-eefb-44aa-9018-d7eff6b5115c",
   "metadata": {},
   "outputs": [
    {
     "name": "stdin",
     "output_type": "stream",
     "text": [
      ": hello world\n"
     ]
    },
    {
     "name": "stdout",
     "output_type": "stream",
     "text": [
      "hello world\n"
     ]
    },
    {
     "name": "stdin",
     "output_type": "stream",
     "text": [
      ": hi there\n"
     ]
    },
    {
     "name": "stdout",
     "output_type": "stream",
     "text": [
      "hi there\n"
     ]
    },
    {
     "name": "stdin",
     "output_type": "stream",
     "text": [
      ": done\n"
     ]
    },
    {
     "name": "stdout",
     "output_type": "stream",
     "text": [
      "done\n"
     ]
    }
   ],
   "source": [
    "# PrintUntilDone.py\n",
    "\n",
    "while True:\n",
    "    user_input = input(\":\")\n",
    "    print(user_input)\n",
    "    if user_input == \"done\":\n",
    "        break"
   ]
  },
  {
   "cell_type": "code",
   "execution_count": 65,
   "id": "98d1bd25-2356-4194-a00b-6c48294d6784",
   "metadata": {},
   "outputs": [
    {
     "name": "stdout",
     "output_type": "stream",
     "text": [
      "1\n",
      "2\n",
      "Fizz\n",
      "4\n",
      "Buzz\n",
      "Fizz\n",
      "7\n",
      "8\n",
      "Fizz\n",
      "Buzz\n"
     ]
    }
   ],
   "source": [
    "# FizzBuzz.py\n",
    "\n",
    "for i in range(1, 11):\n",
    "    if i % 3 == 0 and i % 5 == 0:\n",
    "        print(\"FizzBuzz\")\n",
    "    elif i % 3 == 0:\n",
    "        print(\"Fizz\")\n",
    "    elif i % 5 == 0:\n",
    "        print(\"Buzz\")\n",
    "    else:\n",
    "        print(i)"
   ]
  },
  {
   "cell_type": "code",
   "execution_count": 73,
   "id": "66ab2996-5366-4077-b7a3-269552576ec2",
   "metadata": {},
   "outputs": [
    {
     "name": "stdout",
     "output_type": "stream",
     "text": [
      "5 4 3 2 1 \n",
      "4 3 2 1 \n",
      "3 2 1 \n",
      "2 1 \n",
      "1 \n"
     ]
    }
   ],
   "source": [
    "# ReversePattern.py\n",
    "\n",
    "for i in range(5, 0, -1):\n",
    "    for j in range(i, 0, -1):\n",
    "        print(j, end=\" \")\n",
    "    print()  # Move to the next line"
   ]
  },
  {
   "cell_type": "code",
   "execution_count": null,
   "id": "3aca2f51-2fb7-4256-b953-ed43c85c7aa2",
   "metadata": {},
   "outputs": [],
   "source": []
  }
 ],
 "metadata": {
  "kernelspec": {
   "display_name": "Python [conda env:anaconda3]",
   "language": "python",
   "name": "conda-env-anaconda3-py"
  },
  "language_info": {
   "codemirror_mode": {
    "name": "ipython",
    "version": 3
   },
   "file_extension": ".py",
   "mimetype": "text/x-python",
   "name": "python",
   "nbconvert_exporter": "python",
   "pygments_lexer": "ipython3",
   "version": "3.12.7"
  }
 },
 "nbformat": 4,
 "nbformat_minor": 5
}
