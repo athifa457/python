{
 "cells": [
  {
   "cell_type": "markdown",
   "id": "d013cd0d-be65-4b3b-945f-3b02f78b78c8",
   "metadata": {},
   "source": [
    "List"
   ]
  },
  {
   "cell_type": "code",
   "execution_count": 3,
   "id": "5646434b-d977-4311-b671-2a46dd4e841e",
   "metadata": {},
   "outputs": [
    {
     "name": "stdout",
     "output_type": "stream",
     "text": [
      "[17, 49, 4, 38, 24]\n"
     ]
    }
   ],
   "source": [
    "import random\n",
    "#genarate a list of random numbers 1 and 50\n",
    "random_numbers = random.sample(range(1,51),5)\n",
    "\n",
    "#print the list\n",
    "print(random_numbers)"
   ]
  },
  {
   "cell_type": "code",
   "execution_count": 9,
   "id": "7226d3c1-9cb9-468f-896f-675c5da406f9",
   "metadata": {},
   "outputs": [
    {
     "name": "stdout",
     "output_type": "stream",
     "text": [
      "updated list: [17, 49, 4, 38, 24, 100, 200, 300, 100, 200, 300, 100, 200, 300]\n"
     ]
    }
   ],
   "source": [
    "#insert 3 new values\n",
    "new_values = [100,200,300]\n",
    "random_numbers.extend(new_values)\n",
    "\n",
    "#print the updated list\n",
    "print(\"updated list:\", random_numbers)"
   ]
  },
  {
   "cell_type": "code",
   "execution_count": 11,
   "id": "b4feeca1-b3a7-4819-b4a4-54cfedcaa3c3",
   "metadata": {},
   "outputs": [
    {
     "name": "stdout",
     "output_type": "stream",
     "text": [
      "elements in the list:\n",
      "10\n",
      "20\n",
      "30\n",
      "40\n",
      "50\n"
     ]
    }
   ],
   "source": [
    "#sample the list of numbers\n",
    "numbers = [10,20,30,40,50]\n",
    "#using a for loop to print each element\n",
    "print(\"elements in the list:\")\n",
    "for number in numbers:\n",
    "    print(number)"
   ]
  },
  {
   "cell_type": "markdown",
   "id": "322119e1-b9a1-4b99-91a0-23a5ae3dbd23",
   "metadata": {},
   "source": [
    "DICTIONARY"
   ]
  },
  {
   "cell_type": "code",
   "execution_count": 14,
   "id": "ab2ef633-07d0-435f-9687-d44fdf12f980",
   "metadata": {},
   "outputs": [
    {
     "name": "stdout",
     "output_type": "stream",
     "text": [
      "{'name': 'john', 'age': 25, 'address': 'new york'}\n"
     ]
    }
   ],
   "source": [
    "#creating the dictionary\n",
    "person = {\n",
    "    'name' : 'john',\n",
    "    'age' : 25,\n",
    "    'address' : 'new york'\n",
    "}\n",
    "# printing the dictionary\n",
    "print(person)"
   ]
  },
  {
   "cell_type": "code",
   "execution_count": 16,
   "id": "2a1e3724-46f4-44b8-b541-015338a8ac76",
   "metadata": {},
   "outputs": [
    {
     "name": "stdout",
     "output_type": "stream",
     "text": [
      "{'name': 'John Doe', 'age': 25, 'city': 'New York', 'phone': '1234567890'}\n"
     ]
    }
   ],
   "source": [
    "# Original dictionary\n",
    "my_dict = {\n",
    "    'name': 'John Doe',\n",
    "    'age': 25,\n",
    "    'city': 'New York'\n",
    "}\n",
    "\n",
    "# Adding the new key-value pair\n",
    "my_dict['phone'] = '1234567890'\n",
    "\n",
    "# Display the updated dictionary\n",
    "print(my_dict)\n"
   ]
  },
  {
   "cell_type": "markdown",
   "id": "a8bae44c-0155-43e8-9c6b-4bd274c807c7",
   "metadata": {},
   "source": [
    "SET"
   ]
  },
  {
   "cell_type": "code",
   "execution_count": 18,
   "id": "ec6841c8-c0ae-443b-b30c-5acc080ec2b7",
   "metadata": {},
   "outputs": [
    {
     "name": "stdout",
     "output_type": "stream",
     "text": [
      "{1, 2, 3, 4, 5}\n"
     ]
    }
   ],
   "source": [
    "set = {1,2,3,4,5}\n",
    "print (set)"
   ]
  },
  {
   "cell_type": "code",
   "execution_count": 24,
   "id": "091e7e75-4108-4497-ad06-e0c93adf3ba6",
   "metadata": {},
   "outputs": [
    {
     "name": "stdout",
     "output_type": "stream",
     "text": [
      "{1, 2, 3, 4, 5, 6}\n"
     ]
    }
   ],
   "source": [
    "#original set\n",
    "set = {1,2,3,4,5}\n",
    "\n",
    "# adding the value 6\n",
    "set.add(6)\n",
    "\n",
    "#display the updated the set\n",
    "print(set)"
   ]
  },
  {
   "cell_type": "code",
   "execution_count": 26,
   "id": "c1f52702-83eb-49ce-a169-5a23a86874ba",
   "metadata": {},
   "outputs": [
    {
     "name": "stdout",
     "output_type": "stream",
     "text": [
      "{1, 2, 4, 5}\n"
     ]
    }
   ],
   "source": [
    "#original set\n",
    "set = {1,2,3,4,5}\n",
    "\n",
    "#removing the value 3\n",
    "set.remove(3)\n",
    "\n",
    "print(set)"
   ]
  },
  {
   "cell_type": "markdown",
   "id": "f040167c-a683-4edd-b717-f982c5234e01",
   "metadata": {},
   "source": [
    "TUPLE"
   ]
  },
  {
   "cell_type": "code",
   "execution_count": 30,
   "id": "f5e42d81-f0f4-45dc-ae1a-0c9209755f84",
   "metadata": {},
   "outputs": [
    {
     "name": "stdout",
     "output_type": "stream",
     "text": [
      "4\n"
     ]
    }
   ],
   "source": [
    "#creating the tuple\n",
    "tuple = (1,2,3,4)\n",
    "\n",
    "#printing the length of tuple\n",
    "print(len(tuple))"
   ]
  },
  {
   "cell_type": "code",
   "execution_count": null,
   "id": "9296d787-e4a9-46c1-93f5-374dd79d06f4",
   "metadata": {},
   "outputs": [],
   "source": []
  }
 ],
 "metadata": {
  "kernelspec": {
   "display_name": "Python [conda env:base] *",
   "language": "python",
   "name": "conda-base-py"
  },
  "language_info": {
   "codemirror_mode": {
    "name": "ipython",
    "version": 3
   },
   "file_extension": ".py",
   "mimetype": "text/x-python",
   "name": "python",
   "nbconvert_exporter": "python",
   "pygments_lexer": "ipython3",
   "version": "3.12.7"
  }
 },
 "nbformat": 4,
 "nbformat_minor": 5
}
