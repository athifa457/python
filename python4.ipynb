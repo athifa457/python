{
 "cells": [
  {
   "cell_type": "code",
   "execution_count": 13,
   "id": "0be1465a-4148-4246-a532-d89841a557eb",
   "metadata": {},
   "outputs": [],
   "source": [
    "def custom_function(a, b=10, c=None):\n",
    "    if c is None:\n",
    "        print(\"Sum:\", a + b)\n",
    "    else:\n",
    "        print(\"Product:\", a * b * c)"
   ]
  },
  {
   "cell_type": "code",
   "execution_count": 41,
   "id": "ad3b9080-0ca1-4c49-a53c-ef7ab8a3ec17",
   "metadata": {},
   "outputs": [
    {
     "name": "stdout",
     "output_type": "stream",
     "text": [
      "['apple', 'banana', 'grape']\n"
     ]
    }
   ],
   "source": [
    "def filter_long_strings(string_list):\n",
    "    return [s for s in string_list if len(s) >= 5]\n",
    "words = [\"apple\", \"cat\", \"banana\", \"dog\", \"grape\"]\n",
    "result = filter_long_strings(words)\n",
    "print(result)"
   ]
  },
  {
   "cell_type": "code",
   "execution_count": 31,
   "id": "ca776382-cc31-4d94-a33a-0584fcf38ee4",
   "metadata": {},
   "outputs": [
    {
     "name": "stdout",
     "output_type": "stream",
     "text": [
      "result: 17\n"
     ]
    }
   ],
   "source": [
    "expression = \"3*5+2\"\n",
    "result = eval(expression)\n",
    "print(\"result:\", result)"
   ]
  },
  {
   "cell_type": "code",
   "execution_count": 33,
   "id": "99a02b24-e7e7-4242-9ab3-61a54641cdb5",
   "metadata": {},
   "outputs": [
    {
     "name": "stdout",
     "output_type": "stream",
     "text": [
      "Prime numbers: [2, 7, 11, 13, 17]\n"
     ]
    }
   ],
   "source": [
    "def is_prime(n):\n",
    "    if n < 2:\n",
    "        return False\n",
    "    for i in range(2, int(n**0.5) + 1):\n",
    "        if n % i == 0:\n",
    "            return False\n",
    "    return True\n",
    "\n",
    "numbers = [2, 4, 6, 7, 9, 11, 13, 16, 17, 20]\n",
    "prime_numbers = list(filter(is_prime, numbers))\n",
    "\n",
    "print(\"Prime numbers:\", prime_numbers)"
   ]
  },
  {
   "cell_type": "code",
   "execution_count": null,
   "id": "07b2dc48-21d6-402d-bc37-66ad5a8c97fe",
   "metadata": {},
   "outputs": [],
   "source": []
  }
 ],
 "metadata": {
  "kernelspec": {
   "display_name": "Python [conda env:anaconda3]",
   "language": "python",
   "name": "conda-env-anaconda3-py"
  },
  "language_info": {
   "codemirror_mode": {
    "name": "ipython",
    "version": 3
   },
   "file_extension": ".py",
   "mimetype": "text/x-python",
   "name": "python",
   "nbconvert_exporter": "python",
   "pygments_lexer": "ipython3",
   "version": "3.12.7"
  }
 },
 "nbformat": 4,
 "nbformat_minor": 5
}
