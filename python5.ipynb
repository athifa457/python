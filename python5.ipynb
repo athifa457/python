{
 "cells": [
  {
   "cell_type": "code",
   "execution_count": 6,
   "id": "fa4e8d47-c023-45b8-a0d6-ab98d6f938d4",
   "metadata": {},
   "outputs": [
    {
     "name": "stdout",
     "output_type": "stream",
     "text": [
      "File Content:\n",
      "\n",
      "Hello, this is a sample file.\n",
      "It has multiple lines.\n",
      "This file is about python.\n"
     ]
    }
   ],
   "source": [
    "# Step 1: Create a file and write content to it\n",
    "with open(\"myfile.txt\", \"w\") as file:\n",
    "    file.write(\"Hello, this is a sample file.\\n\")\n",
    "    file.write(\"It has multiple lines.\\n\")\n",
    "    file.write(\"This file is about python.\")\n",
    "\n",
    " # Step 2: Read and display the file content\n",
    "with open(\"myfile.txt\", \"r\") as file:\n",
    "    contents = file.read()\n",
    "    print(\"File Content:\\n\")\n",
    "    print(contents)"
   ]
  },
  {
   "cell_type": "code",
   "execution_count": 10,
   "id": "8cebfdb1-df65-4437-80c3-0a9235912911",
   "metadata": {},
   "outputs": [
    {
     "name": "stdout",
     "output_type": "stream",
     "text": [
      "File copied successfully.\n"
     ]
    }
   ],
   "source": [
    "# This copies contents from 'source.txt' to 'destination.txt'\n",
    "with open(\"myfile\", \"r\") as source:\n",
    "    data = source.read()\n",
    "\n",
    "with open(\"destination.txt\", \"w\") as destination:\n",
    "    destination.write(data)\n",
    "\n",
    "print(\"File copied successfully.\")"
   ]
  },
  {
   "cell_type": "code",
   "execution_count": 16,
   "id": "051787e3-3e2f-4cf3-9b50-28c260adac78",
   "metadata": {},
   "outputs": [
    {
     "name": "stdout",
     "output_type": "stream",
     "text": [
      "Total number of words: 15\n"
     ]
    }
   ],
   "source": [
    "with open(\"myfile.txt\", \"r\") as file:\n",
    "    text = file.read()\n",
    "    words = text.split()\n",
    "    print(\"Total number of words:\", len(words))"
   ]
  },
  {
   "cell_type": "code",
   "execution_count": 24,
   "id": "f3d3be42-c72a-4a25-9998-db90b91f103e",
   "metadata": {},
   "outputs": [
    {
     "name": "stdin",
     "output_type": "stream",
     "text": [
      "Enter a number:  hello\n"
     ]
    },
    {
     "name": "stdout",
     "output_type": "stream",
     "text": [
      "Invalid input! Please enter a valid integer.\n"
     ]
    }
   ],
   "source": [
    "try:\n",
    "    user_input = input(\"Enter a number: \")\n",
    "    number = int(user_input)\n",
    "    print(\"You entered:\", number)\n",
    "except ValueError:\n",
    "    print(\"Invalid input! Please enter a valid integer.\")"
   ]
  },
  {
   "cell_type": "code",
   "execution_count": 26,
   "id": "51aa82e1-1a17-4f4b-ac75-81779c02b4d7",
   "metadata": {},
   "outputs": [
    {
     "name": "stdin",
     "output_type": "stream",
     "text": [
      "Enter a list of integers separated by spaces:  3 5 7 6 13\n"
     ]
    },
    {
     "name": "stdout",
     "output_type": "stream",
     "text": [
      "All numbers are valid: [3, 5, 7, 6, 13]\n"
     ]
    }
   ],
   "source": [
    "try:\n",
    "    input_str = input(\"Enter a list of integers separated by spaces: \")\n",
    "    numbers = list(map(int, input_str.split()))\n",
    "    \n",
    "    for num in numbers:\n",
    "        if num < 0:\n",
    "            raise ValueError(\"Negative numbers are not allowed!\")\n",
    "    \n",
    "    print(\"All numbers are valid:\", numbers)\n",
    "\n",
    "except ValueError as e:\n",
    "    print(\"Error:\", e)"
   ]
  },
  {
   "cell_type": "code",
   "execution_count": 28,
   "id": "def14f74-8acc-4f05-9099-782c726e338d",
   "metadata": {},
   "outputs": [
    {
     "name": "stdin",
     "output_type": "stream",
     "text": [
      "Enter a list of integers separated by spaces:  2 3 5 7 8 14\n"
     ]
    },
    {
     "name": "stdout",
     "output_type": "stream",
     "text": [
      "Average: 6.5\n",
      "Program has finished running.\n"
     ]
    }
   ],
   "source": [
    "try:\n",
    "    input_str = input(\"Enter a list of integers separated by spaces: \")\n",
    "    numbers = list(map(int, input_str.split()))\n",
    "    \n",
    "    if len(numbers) == 0:\n",
    "        raise ZeroDivisionError(\"Cannot compute average of an empty list.\")\n",
    "    \n",
    "    average = sum(numbers) / len(numbers)\n",
    "    print(\"Average:\", average)\n",
    "\n",
    "except ValueError:\n",
    "    print(\"Error: Please enter only integers.\")\n",
    "except ZeroDivisionError as e:\n",
    "    print(\"Error:\", e)\n",
    "finally:\n",
    "    print(\"Program has finished running.\")"
   ]
  },
  {
   "cell_type": "code",
   "execution_count": null,
   "id": "730e7270-8601-4dab-a483-282093058264",
   "metadata": {},
   "outputs": [],
   "source": [
    "try:\n",
    "    filename = input(\"Enter the filename to write to: \")\n",
    "    with open(filename, \"w\") as file:\n",
    "        file.write(\"Hello! Welcome to file writing in Python.\")\n",
    "    print(\"Welcome! File written successfully.\")\n",
    "except Exception as e:\n",
    "    print(\"An error occurred:\", e)"
   ]
  },
  {
   "cell_type": "code",
   "execution_count": null,
   "id": "a0b7fa09-b500-4663-bdad-65d468559069",
   "metadata": {},
   "outputs": [],
   "source": []
  }
 ],
 "metadata": {
  "kernelspec": {
   "display_name": "Python [conda env:anaconda3]",
   "language": "python",
   "name": "conda-env-anaconda3-py"
  },
  "language_info": {
   "codemirror_mode": {
    "name": "ipython",
    "version": 3
   },
   "file_extension": ".py",
   "mimetype": "text/x-python",
   "name": "python",
   "nbconvert_exporter": "python",
   "pygments_lexer": "ipython3",
   "version": "3.12.7"
  }
 },
 "nbformat": 4,
 "nbformat_minor": 5
}
